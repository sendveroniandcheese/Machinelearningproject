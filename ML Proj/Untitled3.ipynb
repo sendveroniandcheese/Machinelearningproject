{
 "cells": [
  {
   "cell_type": "code",
   "execution_count": 1,
   "metadata": {},
   "outputs": [],
   "source": [
    "import pandas as pd"
   ]
  },
  {
   "cell_type": "code",
   "execution_count": 3,
   "metadata": {},
   "outputs": [
    {
     "data": {
      "text/plain": [
       "year         int64\n",
       "Player      object\n",
       "Pos         object\n",
       "Age          int64\n",
       "Tm          object\n",
       "G            int64\n",
       "GS           int64\n",
       "MP           int64\n",
       "FG           int64\n",
       "FGA          int64\n",
       "FG%         object\n",
       "3P           int64\n",
       "3PA          int64\n",
       "3P%         object\n",
       "2P           int64\n",
       "2PA          int64\n",
       "2P%         object\n",
       "eFG%        object\n",
       "FT           int64\n",
       "FTA          int64\n",
       "FT%         object\n",
       "ORB          int64\n",
       "DRB          int64\n",
       "TRB          int64\n",
       "AST          int64\n",
       "STL          int64\n",
       "BLK          int64\n",
       "TOV          int64\n",
       "PF           int64\n",
       "PTS          int64\n",
       "All_Star    object\n",
       "dtype: object"
      ]
     },
     "execution_count": 3,
     "metadata": {},
     "output_type": "execute_result"
    }
   ],
   "source": [
    "df = pd.read_csv('nba_df.csv')\n",
    "\n",
    "df.dtypes"
   ]
  },
  {
   "cell_type": "code",
   "execution_count": 5,
   "metadata": {},
   "outputs": [],
   "source": [
    "df.replace('no', 0, inplace=True)"
   ]
  },
  {
   "cell_type": "code",
   "execution_count": 15,
   "metadata": {},
   "outputs": [],
   "source": [
    "\n",
    "df = df.astype({'FG%': float, '3P%': float, '2P%': float, 'eFG%': float, 'FT%': float,})"
   ]
  },
  {
   "cell_type": "code",
   "execution_count": 16,
   "metadata": {},
   "outputs": [
    {
     "data": {
      "text/plain": [
       "year          int64\n",
       "Player       object\n",
       "Pos          object\n",
       "Age           int64\n",
       "Tm           object\n",
       "G             int64\n",
       "GS            int64\n",
       "MP            int64\n",
       "FG            int64\n",
       "FGA           int64\n",
       "FG%         float64\n",
       "3P            int64\n",
       "3PA           int64\n",
       "3P%         float64\n",
       "2P            int64\n",
       "2PA           int64\n",
       "2P%         float64\n",
       "eFG%        float64\n",
       "FT            int64\n",
       "FTA           int64\n",
       "FT%         float64\n",
       "ORB           int64\n",
       "DRB           int64\n",
       "TRB           int64\n",
       "AST           int64\n",
       "STL           int64\n",
       "BLK           int64\n",
       "TOV           int64\n",
       "PF            int64\n",
       "PTS           int64\n",
       "All_Star     object\n",
       "dtype: object"
      ]
     },
     "execution_count": 16,
     "metadata": {},
     "output_type": "execute_result"
    }
   ],
   "source": [
    "df.dtypes"
   ]
  },
  {
   "cell_type": "code",
   "execution_count": 17,
   "metadata": {},
   "outputs": [],
   "source": [
    "df.to_csv('nba_df.csv', index=False)"
   ]
  },
  {
   "cell_type": "code",
   "execution_count": null,
   "metadata": {},
   "outputs": [],
   "source": []
  }
 ],
 "metadata": {
  "kernelspec": {
   "display_name": "Python 3",
   "language": "python",
   "name": "python3"
  },
  "language_info": {
   "codemirror_mode": {
    "name": "ipython",
    "version": 3
   },
   "file_extension": ".py",
   "mimetype": "text/x-python",
   "name": "python",
   "nbconvert_exporter": "python",
   "pygments_lexer": "ipython3",
   "version": "3.7.4"
  }
 },
 "nbformat": 4,
 "nbformat_minor": 2
}
